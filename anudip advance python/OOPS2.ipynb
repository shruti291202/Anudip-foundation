{
 "cells": [
  {
   "cell_type": "code",
   "execution_count": 1,
   "metadata": {},
   "outputs": [
    {
     "name": "stdout",
     "output_type": "stream",
     "text": [
      "You are eligible to vote\n"
     ]
    }
   ],
   "source": [
    "def agecheck(age):\n",
    "    if age>=18:\n",
    "        print(\"You are eligible to vote\")\n",
    "    else:\n",
    "        raise ValueError\n",
    "\n",
    "agecheck(20)        "
   ]
  },
  {
   "cell_type": "code",
   "execution_count": 9,
   "metadata": {},
   "outputs": [
    {
     "name": "stdout",
     "output_type": "stream",
     "text": [
      "error: cannot vote \n"
     ]
    }
   ],
   "source": [
    "def agecheck(age):\n",
    "    if age>=18:\n",
    "        print(\"You are eligible to vote\")\n",
    "    else:\n",
    "        raise ValueError(\"cannot vote \")\n",
    "try:\n",
    "    agecheck(14)\n",
    "except ValueError as e:\n",
    "    print(\"error:\",e)       "
   ]
  },
  {
   "cell_type": "code",
   "execution_count": null,
   "metadata": {},
   "outputs": [],
   "source": []
  }
 ],
 "metadata": {
  "kernelspec": {
   "display_name": "Python 3",
   "language": "python",
   "name": "python3"
  },
  "language_info": {
   "codemirror_mode": {
    "name": "ipython",
    "version": 3
   },
   "file_extension": ".py",
   "mimetype": "text/x-python",
   "name": "python",
   "nbconvert_exporter": "python",
   "pygments_lexer": "ipython3",
   "version": "3.12.4"
  }
 },
 "nbformat": 4,
 "nbformat_minor": 2
}
