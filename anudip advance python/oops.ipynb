{
 "cells": [
  {
   "cell_type": "code",
   "execution_count": 2,
   "metadata": {},
   "outputs": [
    {
     "name": "stdout",
     "output_type": "stream",
     "text": [
      "study 3 hour xyz\n"
     ]
    }
   ],
   "source": [
    "class Student:\n",
    "    name=\"xyz\"\n",
    "    age=0\n",
    "    def study(self):\n",
    "        print(\"study 3 hour\",self.name)\n",
    "        \n",
    "    def sleep (self):\n",
    "        print(\"sleep 1 hour\")\n",
    "        study()\n",
    "obj=Student()\n",
    "obj.study()    "
   ]
  },
  {
   "cell_type": "code",
   "execution_count": 3,
   "metadata": {},
   "outputs": [
    {
     "name": "stdout",
     "output_type": "stream",
     "text": [
      "this is show method\n"
     ]
    },
    {
     "ename": "AttributeError",
     "evalue": "'C' object has no attribute 'demo'",
     "output_type": "error",
     "traceback": [
      "\u001b[1;31m---------------------------------------------------------------------------\u001b[0m",
      "\u001b[1;31mAttributeError\u001b[0m                            Traceback (most recent call last)",
      "Cell \u001b[1;32mIn[3], line 14\u001b[0m\n\u001b[0;32m     12\u001b[0m obj\u001b[38;5;241m=\u001b[39mC()\n\u001b[0;32m     13\u001b[0m obj\u001b[38;5;241m.\u001b[39mshow()\n\u001b[1;32m---> 14\u001b[0m \u001b[43mobj\u001b[49m\u001b[38;5;241;43m.\u001b[39;49m\u001b[43mdemo\u001b[49m() \u001b[38;5;66;03m#error\u001b[39;00m\n",
      "\u001b[1;31mAttributeError\u001b[0m: 'C' object has no attribute 'demo'"
     ]
    }
   ],
   "source": [
    "class A:\n",
    "    def show(self):\n",
    "        print(\"this is show method\")\n",
    "\n",
    "class B(A):\n",
    "    def demo(self):\n",
    "        print(\"demo method\")\n",
    "class C(A):\n",
    "    pass\n",
    "class D(B,C):\n",
    "    pass\n",
    "obj=C()\n",
    "obj.show()\n",
    "obj.demo() #error\n",
    "\n"
   ]
  },
  {
   "cell_type": "code",
   "execution_count": null,
   "metadata": {},
   "outputs": [
    {
     "ename": "TypeError",
     "evalue": "setData() missing 1 required positional argument: 'age'",
     "output_type": "error",
     "traceback": [
      "\u001b[1;31m---------------------------------------------------------------------------\u001b[0m",
      "\u001b[1;31mTypeError\u001b[0m                                 Traceback (most recent call last)",
      "Cell \u001b[1;32mIn[19], line 5\u001b[0m\n\u001b[0;32m      3\u001b[0m \u001b[38;5;28;01mdef\u001b[39;00m \u001b[38;5;21msetData\u001b[39m(\u001b[38;5;28mid\u001b[39m,name,age):\n\u001b[0;32m      4\u001b[0m     \u001b[38;5;28mprint\u001b[39m(\u001b[38;5;124m\"\u001b[39m\u001b[38;5;124mid,name,age\u001b[39m\u001b[38;5;124m\"\u001b[39m)\n\u001b[1;32m----> 5\u001b[0m \u001b[43msetData\u001b[49m\u001b[43m(\u001b[49m\u001b[38;5;241;43m102\u001b[39;49m\u001b[43m,\u001b[49m\u001b[38;5;124;43m\"\u001b[39;49m\u001b[38;5;124;43mtanishq\u001b[39;49m\u001b[38;5;124;43m\"\u001b[39;49m\u001b[43m)\u001b[49m        \n",
      "\u001b[1;31mTypeError\u001b[0m: setData() missing 1 required positional argument: 'age'"
     ]
    }
   ],
   "source": [
    "def setData(id,name):\n",
    "    print(\"id,name\")\n",
    "def setData(id,name,age):\n",
    "    print(\"id,name,age\")\n",
    "setData(102,\"tanishq\")        "
   ]
  },
  {
   "cell_type": "code",
   "execution_count": null,
   "metadata": {},
   "outputs": [
    {
     "name": "stdout",
     "output_type": "stream",
     "text": [
      "60\n",
      "30\n"
     ]
    }
   ],
   "source": [
    "def sum(a,b,c=0):\n",
    "    print(a+b+c)\n",
    "sum(10,20,30)\n",
    "sum(10,20)    "
   ]
  },
  {
   "cell_type": "code",
   "execution_count": null,
   "metadata": {},
   "outputs": [],
   "source": [
    "#method overriding\n",
    "#Polymorphism lets us define methods in the child class that have the same name as the methods in the parent class. In inheritance, the child class inherits the methods from the parent class. However, it is possible to modify a method in a child class that it has inherited from the parent class. This is particularly useful in cases where the method inherited from the parent class doesn't quite fit the child class. In such cases, we re-implement the method in the child class. This process of re-implementing a method in the child class is known as Method Overriding.\n",
    "\n",
    "\n",
    "_protected\n",
    "__private\n",
    "public"
   ]
  },
  {
   "cell_type": "code",
   "execution_count": null,
   "metadata": {},
   "outputs": [],
   "source": [
    "class bird:\n",
    "    def intro(self):\n",
    "        print(\"there are many types of bird.\")\n",
    "    def flight(self):\n",
    "        print(\"most of the bird can fly but some cannot.\")\n",
    "class sparrow(bird):\n",
    "    def flight(self):\n",
    "        print(\"i can fly.\")\n",
    "class ostrich(bird):\n",
    "    def flight(self):\n",
    "        print(\"i can't fly.\")\n",
    "            "
   ]
  },
  {
   "cell_type": "code",
   "execution_count": null,
   "metadata": {},
   "outputs": [
    {
     "ename": "AttributeError",
     "evalue": "'B' object has no attribute 'name'",
     "output_type": "error",
     "traceback": [
      "\u001b[1;31m---------------------------------------------------------------------------\u001b[0m",
      "\u001b[1;31mAttributeError\u001b[0m                            Traceback (most recent call last)",
      "Cell \u001b[1;32mIn[41], line 7\u001b[0m\n\u001b[0;32m      5\u001b[0m         \u001b[38;5;28mprint\u001b[39m(\u001b[38;5;124m\"\u001b[39m\u001b[38;5;124mthis is show method.\u001b[39m\u001b[38;5;124m\"\u001b[39m,\u001b[38;5;28mself\u001b[39m\u001b[38;5;241m.\u001b[39mname)\n\u001b[0;32m      6\u001b[0m obj\u001b[38;5;241m=\u001b[39mB()\n\u001b[1;32m----> 7\u001b[0m \u001b[43mobj\u001b[49m\u001b[38;5;241;43m.\u001b[39;49m\u001b[43mshow\u001b[49m\u001b[43m(\u001b[49m\u001b[43m)\u001b[49m\n",
      "Cell \u001b[1;32mIn[41], line 5\u001b[0m, in \u001b[0;36mB.show\u001b[1;34m(self)\u001b[0m\n\u001b[0;32m      4\u001b[0m \u001b[38;5;28;01mdef\u001b[39;00m \u001b[38;5;21mshow\u001b[39m(\u001b[38;5;28mself\u001b[39m):\n\u001b[1;32m----> 5\u001b[0m     \u001b[38;5;28mprint\u001b[39m(\u001b[38;5;124m\"\u001b[39m\u001b[38;5;124mthis is show method.\u001b[39m\u001b[38;5;124m\"\u001b[39m,\u001b[38;5;28;43mself\u001b[39;49m\u001b[38;5;241;43m.\u001b[39;49m\u001b[43mname\u001b[49m)\n",
      "\u001b[1;31mAttributeError\u001b[0m: 'B' object has no attribute 'name'"
     ]
    }
   ],
   "source": [
    "class A:\n",
    "    __name=\"abc\"\n",
    "class B(A):\n",
    "    def show(self):\n",
    "        print(\"this is show method.\",self.name)\n",
    "obj=B()\n",
    "obj.show()\n"
   ]
  },
  {
   "cell_type": "code",
   "execution_count": null,
   "metadata": {},
   "outputs": [
    {
     "name": "stdout",
     "output_type": "stream",
     "text": [
      "This is show method. abc\n",
      "This is show method. tanishq\n"
     ]
    }
   ],
   "source": [
    "class A:\n",
    "    def __init__(self):\n",
    "        self.__name = \"abc\"\n",
    "    \n",
    "    @property\n",
    "    def name(self):\n",
    "        return self.__name\n",
    "    \n",
    "    @name.setter\n",
    "    def name(self, value):\n",
    "        self.__name = value\n",
    "\n",
    "class B(A):\n",
    "    def show(self):\n",
    "        print(\"This is show method.\", self.name)\n",
    "\n",
    "obj = B()\n",
    "obj.show()  # Output: This is show method. abc\n",
    "obj.name = \"tanishq\"\n",
    "obj.show()  # Output: This is show method. new_name\n"
   ]
  },
  {
   "cell_type": "code",
   "execution_count": 15,
   "metadata": {},
   "outputs": [
    {
     "name": "stdout",
     "output_type": "stream",
     "text": [
      "line1\n",
      "line2\n",
      "line3\n",
      "line4\n",
      "5.0\n",
      "else block\n",
      "finally block\n",
      "line6\n"
     ]
    }
   ],
   "source": [
    "print(\"line1\")\n",
    "print(\"line2\")\n",
    "print(\"line3\")\n",
    "print(\"line4\")\n",
    "num1=int(input(\"enter first number:\"))\n",
    "num2=int(input(\"enter division number:\"))\n",
    "try:\n",
    "    print(num1/num2)\n",
    "except:\n",
    "    print(\"---\")\n",
    "else:\n",
    "    print(\"else block\")\n",
    "finally:\n",
    "    print(\"finally block\")        \n",
    "print(\"line6\")"
   ]
  },
  {
   "cell_type": "code",
   "execution_count": 26,
   "metadata": {},
   "outputs": [
    {
     "name": "stdout",
     "output_type": "stream",
     "text": [
      "Both inputs must be numerical values.\n"
     ]
    }
   ],
   "source": [
    "try:\n",
    "    num1 = int(input(\"Enter the first number: \"))\n",
    "    num2 = int(input(\"Enter the second number: \"))\n",
    "    print(\"The numbers you entered are\",num1,num2)\n",
    "except:\n",
    "    print(\"Both inputs must be numerical values.\")\n",
    "\n"
   ]
  },
  {
   "cell_type": "code",
   "execution_count": null,
   "metadata": {},
   "outputs": [],
   "source": []
  }
 ],
 "metadata": {
  "kernelspec": {
   "display_name": "Python 3",
   "language": "python",
   "name": "python3"
  },
  "language_info": {
   "codemirror_mode": {
    "name": "ipython",
    "version": 3
   },
   "file_extension": ".py",
   "mimetype": "text/x-python",
   "name": "python",
   "nbconvert_exporter": "python",
   "pygments_lexer": "ipython3",
   "version": "3.12.4"
  }
 },
 "nbformat": 4,
 "nbformat_minor": 2
}
