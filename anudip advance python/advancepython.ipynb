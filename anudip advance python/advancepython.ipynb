{
 "cells": [
  {
   "cell_type": "code",
   "execution_count": 14,
   "id": "aa51d386-8de3-44a7-95d2-a965054795dc",
   "metadata": {},
   "outputs": [],
   "source": [
    "import pickle\n",
    "f=open(\"tanishq.dat\",\"wb\")\n",
    "li=[10,20,30,40]\n",
    "pickle.dump(li,f)"
   ]
  },
  {
   "cell_type": "code",
   "execution_count": 16,
   "id": "4f95bcc1-633d-4a7a-948f-34d19d2598f4",
   "metadata": {},
   "outputs": [
    {
     "name": "stdout",
     "output_type": "stream",
     "text": [
      "[10, 20, 30, 40]\n"
     ]
    }
   ],
   "source": [
    "f=open(\"tanishq.dat\",\"rb\")\n",
    "data=pickle.load(f)\n",
    "print(data)\n",
    "f.close()"
   ]
  },
  {
   "cell_type": "code",
   "execution_count": 22,
   "id": "0f5e1d28-2870-4d39-8690-365cab6c30e0",
   "metadata": {},
   "outputs": [
    {
     "ename": "NameError",
     "evalue": "name 'true' is not defined",
     "output_type": "error",
     "traceback": [
      "\u001b[1;31m---------------------------------------------------------------------------\u001b[0m",
      "\u001b[1;31mNameError\u001b[0m                                 Traceback (most recent call last)",
      "Cell \u001b[1;32mIn[22], line 3\u001b[0m\n\u001b[0;32m      1\u001b[0m \u001b[38;5;28;01mimport\u001b[39;00m \u001b[38;5;21;01mpickle\u001b[39;00m \n\u001b[0;32m      2\u001b[0m f\u001b[38;5;241m=\u001b[39m\u001b[38;5;28mopen\u001b[39m(\u001b[38;5;124m\"\u001b[39m\u001b[38;5;124mstu.dat\u001b[39m\u001b[38;5;124m\"\u001b[39m,\u001b[38;5;124m\"\u001b[39m\u001b[38;5;124mwb\u001b[39m\u001b[38;5;124m\"\u001b[39m)\n\u001b[1;32m----> 3\u001b[0m \u001b[38;5;28;01mwhile\u001b[39;00m \u001b[43mtrue\u001b[49m:\n\u001b[0;32m      4\u001b[0m     rollno\u001b[38;5;241m=\u001b[39m\u001b[38;5;28mint\u001b[39m(\u001b[38;5;28minput\u001b[39m(\u001b[38;5;124m\"\u001b[39m\u001b[38;5;124menter roll number:\u001b[39m\u001b[38;5;124m\"\u001b[39m))\n\u001b[0;32m      5\u001b[0m     name\u001b[38;5;241m=\u001b[39m\u001b[38;5;28minput\u001b[39m(\u001b[38;5;124m\"\u001b[39m\u001b[38;5;124menter name:\u001b[39m\u001b[38;5;124m\"\u001b[39m)\n",
      "\u001b[1;31mNameError\u001b[0m: name 'true' is not defined"
     ]
    }
   ],
   "source": [
    "import pickle \n",
    "f=open(\"stu.dat\",\"wb\")\n",
    "while true:\n",
    "    rollno=int(input(\"enter roll number:\"))\n",
    "    name=input(\"enter name:\")\n",
    "    marks=float(input(\"enter the marks:\"))\n",
    "    pickle.dump((rollno,name,marks),f)\n",
    "    choice = input(\"Do you want to add another student? (y/n): \")\n",
    "    if choice.lower() != 'y':\n",
    "            break\n",
    "    "
   ]
  },
  {
   "cell_type": "code",
   "execution_count": 26,
   "id": "c005191a-b9fc-4334-9117-833e745a34cb",
   "metadata": {},
   "outputs": [],
   "source": [
    "import csv\n",
    "f=open(\"tanishq.csv\",'a',newline='')\n",
    "wo=csv.writer(f)\n",
    "data=[[\"a\",\"b\",\"c\"],[14,15,18],[47,19,48]]\n",
    "wo.writerow(data)\n",
    "f.close()\n"
   ]
  },
  {
   "cell_type": "code",
   "execution_count": null,
   "id": "7ae2c11c-fb52-4179-9abd-3c788ced5cee",
   "metadata": {},
   "outputs": [],
   "source": []
  }
 ],
 "metadata": {
  "kernelspec": {
   "display_name": "Python 3 (ipykernel)",
   "language": "python",
   "name": "python3"
  },
  "language_info": {
   "codemirror_mode": {
    "name": "ipython",
    "version": 3
   },
   "file_extension": ".py",
   "mimetype": "text/x-python",
   "name": "python",
   "nbconvert_exporter": "python",
   "pygments_lexer": "ipython3",
   "version": "3.12.4"
  }
 },
 "nbformat": 4,
 "nbformat_minor": 5
}
