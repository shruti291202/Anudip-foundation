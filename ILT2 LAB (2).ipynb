{
 "cells": [
  {
   "cell_type": "code",
   "execution_count": 1,
   "metadata": {},
   "outputs": [],
   "source": [
    "#1 Suppose you have a dataset containing daily temperature readings for a city, and you want to identify days with extreme temperature conditions. Find days where the temperature either exceeded 35 degrees Celsius (hot day) or dropped below 5 degrees Celsius (cold day).\n",
    "#Input:\n",
    "#temperatures = p.array (32.5, 34.2, 36.8, 29.3, 31.0, 38.7, 23.1, 18.5, 22.8, 37.2)\n"
   ]
  },
  {
   "cell_type": "code",
   "execution_count": 31,
   "metadata": {},
   "outputs": [
    {
     "name": "stdout",
     "output_type": "stream",
     "text": [
      "Hot days: [2 5 9]\n",
      "Cold days : []\n"
     ]
    }
   ],
   "source": [
    "import numpy as np\n",
    "temperatures = np.array([32.5, 34.2, 36.8, 29.3, 31.0, 38.7, 23.1, 18.5, 22.8, 37.2])\n",
    "hot_days = np.where(temperatures > 35)[0]\n",
    "cold_days = np.where(temperatures < 5)[0]\n",
    "print(\"Hot days:\", hot_days,)\n",
    "print(\"Cold days :\", cold_days)\n"
   ]
  },
  {
   "cell_type": "code",
   "execution_count": null,
   "metadata": {},
   "outputs": [],
   "source": [
    "#2 Suppose you have a dataset containing monthly sales data for a company, and you want to split this data into quarterly reports for analysis and reporting purposes.\n",
    "\n",
    "#Input:\n",
    "\n",
    "#monthly_sales = np.array([120, 135, 140, 165, 180, 155, 168, 190, 205, 198, 210, 225])\n"
   ]
  },
  {
   "cell_type": "code",
   "execution_count": 13,
   "metadata": {},
   "outputs": [
    {
     "name": "stdout",
     "output_type": "stream",
     "text": [
      "Quarter 1 Sales (in thousands of dollars):\n",
      " [120 135 140]\n",
      "\n",
      "Quarter 2 Sales (in thousands of dollars)\n",
      " [165 180 155]\n",
      "\n",
      "Quarter 3 Sales (in thousands of dollars):\n",
      " [168 190 205]\n",
      "\n",
      "Quarter 4 Sales (in thousands of dollars)\n",
      " [198 210 225]\n"
     ]
    }
   ],
   "source": [
    "import numpy as np\n",
    "\n",
    "monthly_sales = np.array([120, 135, 140, 165, 180, 155, 168, 190, 205, 198, 210, 225])\n",
    "quarter1_sales = monthly_sales[:3]\n",
    "quarter2_sales = monthly_sales[3:6]\n",
    "quarter3_sales = monthly_sales[6:9]\n",
    "quarter4_sales = monthly_sales[9:]\n",
    "print(\"Quarter 1 Sales (in thousands of dollars):\\n\", quarter1_sales)\n",
    "print(\"\\nQuarter 2 Sales (in thousands of dollars)\\n\", quarter2_sales)\n",
    "print(\"\\nQuarter 3 Sales (in thousands of dollars):\\n\", quarter3_sales)\n",
    "print(\"\\nQuarter 4 Sales (in thousands of dollars)\\n\", quarter4_sales)"
   ]
  },
  {
   "cell_type": "code",
   "execution_count": null,
   "metadata": {},
   "outputs": [],
   "source": [
    "#3 Suppose you have a dataset containing customer data, and you want to split this data into two groups: one group for customers who made a purchase in the last 30 days and another group for customers who haven't made a purchase in the last 30 days.\n",
    "#Input:\n",
    "#customer_ids = np.array([101, 102, 103, 104, 105, 106, 107, 108, 109, 110])\n",
    "#last_purchase_days_ago = np.array([5, 15, 20, 25, 30, 35, 40, 45, 50, 55])"
   ]
  },
  {
   "cell_type": "code",
   "execution_count": 15,
   "metadata": {},
   "outputs": [
    {
     "name": "stdout",
     "output_type": "stream",
     "text": [
      "Recent Customers:\n",
      "[101 102 103 104 105]\n",
      "Non-Recent Customers:\n",
      "[106 107 108 109 110]\n"
     ]
    }
   ],
   "source": [
    "import numpy as np\n",
    "customer_ids = np.array([101, 102, 103, 104, 105, 106, 107, 108, 109, 110])\n",
    "last_purchase_days_ago = np.array([5, 15, 20, 25, 30, 35, 40, 45, 50, 55])\n",
    "recent_customers = last_purchase_days_ago <= 30\n",
    "non_recent_customers = last_purchase_days_ago > 30\n",
    "recent_customer_ids = customer_ids[recent_customers]\n",
    "non_recent_customer_ids = customer_ids[non_recent_customers]\n",
    "print(\"Recent Customers:\")\n",
    "print(recent_customer_ids)\n",
    "print(\"Non-Recent Customers:\")\n",
    "print(non_recent_customer_ids)"
   ]
  },
  {
   "cell_type": "code",
   "execution_count": 16,
   "metadata": {},
   "outputs": [],
   "source": [
    "#4.Suppose you have two sets of employee data—one containing information about\n",
    "#full-time employees and another containing information about part-time employees. You\n",
    "#want to combine this data to create a comprehensive employee dataset for HR analysis.\n",
    "#Input:\n",
    "# Employee data for full-time employees\n",
    "#full_time_employees = np.array([\n",
    "#[101, 'John Doe', 'Full-Time', 55000],\n",
    "#[102, 'Jane Smith', 'Full-Time', 60000],\n",
    "#[103, 'Mike Johnson', 'Full-Time', 52000])\n",
    "# Employee data for part-time employees\n",
    "#part_time_employees = np.array([\n",
    "#[201, 'Alice Brown', 'Part-Time', 25000],\n",
    "#[202, 'Bob Wilson', 'Part-Time', 28000],\n",
    "#[203, 'Emily Davis', 'Part-Time', 22000]])\n"
   ]
  },
  {
   "cell_type": "code",
   "execution_count": 18,
   "metadata": {},
   "outputs": [
    {
     "name": "stdout",
     "output_type": "stream",
     "text": [
      "Combined Employee Data:\n",
      "Employee ID: 101, Name: John Doe, Type: Full-Time, Salary: 55000\n",
      "Employee ID: 102, Name: Jane Smith, Type: Full-Time, Salary: 60000\n",
      "Employee ID: 103, Name: Mike Johnson, Type: Full-Time, Salary: 52000\n",
      "Employee ID: 201, Name: Alice Brown, Type: Part-Time, Salary: 25000\n",
      "Employee ID: 202, Name: Bob Wilson, Type: Part-Time, Salary: 28000\n",
      "Employee ID: 203, Name: Emily Davis, Type: Part-Time, Salary: 22000\n"
     ]
    }
   ],
   "source": [
    "import numpy as np\n",
    "full_time_employees = np.array([\n",
    "    [101, 'John Doe', 'Full-Time', 55000],\n",
    "    [102, 'Jane Smith', 'Full-Time', 60000],\n",
    "    [103, 'Mike Johnson', 'Full-Time', 52000]\n",
    "])\n",
    "part_time_employees = np.array([\n",
    "    [201, 'Alice Brown', 'Part-Time', 25000],\n",
    "    [202, 'Bob Wilson', 'Part-Time', 28000],\n",
    "    [203, 'Emily Davis', 'Part-Time', 22000]\n",
    "])\n",
    "all_employees = np.vstack((full_time_employees, part_time_employees))\n",
    "print(\"Combined Employee Data:\")\n",
    "for employee in all_employees:\n",
    "    print(f\"Employee ID: {employee[0]}, Name: {employee[1]}, Type: {employee[2]}, Salary: {employee[3]}\")"
   ]
  },
  {
   "cell_type": "code",
   "execution_count": 27,
   "metadata": {},
   "outputs": [
    {
     "name": "stdout",
     "output_type": "stream",
     "text": [
      "Mean of array 1: 5.5\n",
      "Mean of array 2: 30.6\n",
      "Mean of array 3: 34.0\n"
     ]
    }
   ],
   "source": [
    "import numpy as np\n",
    "list_of_arrays = [\n",
    "    np.array([3, 2, 8, 9]),\n",
    "    np.array([4, 12, 34, 25, 78]),\n",
    "    np.array([23, 12, 67])\n",
    "]\n",
    "means = [np.mean(arr) for arr in list_of_arrays]\n",
    "\n",
    "for i, mean in enumerate(means):\n",
    "    print(f\"Mean of array {i+1}: {mean}\")\n"
   ]
  },
  {
   "cell_type": "code",
   "execution_count": 30,
   "metadata": {},
   "outputs": [
    {
     "name": "stdout",
     "output_type": "stream",
     "text": [
      "Mean of Each array\n",
      "[5.5, 30.6, 34.0]\n"
     ]
    }
   ],
   "source": [
    "import numpy as np\n",
    "\n",
    "list_of_arrays = [\n",
    "    np.array([3, 2, 8, 9]),\n",
    "    np.array([4, 12, 34, 25, 78]),\n",
    "    np.array([23, 12, 67])\n",
    "]\n",
    "means = [np.mean(arr) for arr in list_of_arrays]\n",
    "print(\"Mean of Each array\")\n",
    "print(means)"
   ]
  },
  {
   "cell_type": "code",
   "execution_count": 1,
   "metadata": {},
   "outputs": [],
   "source": [
    "#2. Compute the median of the flattened NumPy array\n",
    "#Input: x_odd = np.array([1, 2, 3, 4, 5, 6, 7])"
   ]
  },
  {
   "cell_type": "code",
   "execution_count": 10,
   "metadata": {},
   "outputs": [
    {
     "name": "stdout",
     "output_type": "stream",
     "text": [
      "printing the original array:\n",
      "[1 2 3 4 5 6 7]\n",
      " median of the array that contains odd no of elements:\n",
      "4.0\n"
     ]
    }
   ],
   "source": [
    "import numpy as np\n",
    "\n",
    "x_odd = np.array([1, 2, 3, 4, 5, 6, 7])\n",
    "median = np.median(x_odd)\n",
    "print(\"printing the original array:\")\n",
    "print(x_odd)\n",
    "print(\" median of the array that contains odd no of elements:\")\n",
    "print(median)"
   ]
  },
  {
   "cell_type": "code",
   "execution_count": 16,
   "metadata": {},
   "outputs": [],
   "source": [
    "#3.Compute the standard deviation of the NumPy array\n",
    "#Input: arr = [20, 2, 7, 1, 34]"
   ]
  },
  {
   "cell_type": "code",
   "execution_count": 15,
   "metadata": {},
   "outputs": [
    {
     "name": "stdout",
     "output_type": "stream",
     "text": [
      "arr : [20, 2, 7, 1, 34]\n",
      "std of arr : 12.576167937809991\n",
      "\n",
      "More precision with float32\n",
      "std of arr : {std_float32:.6f}\n",
      "\n",
      "More accuracy with float64\n",
      "std of arr : 12.576167937809991\n"
     ]
    }
   ],
   "source": [
    "import numpy as np\n",
    "arr = np.array([20, 2, 7, 1, 34])\n",
    "std_default = np.std(arr)\n",
    "std_float32 = np.std(arr.astype(np.float32))\n",
    "std_float64 = np.std(arr.astype(np.float64))\n",
    "\n",
    "print(f\"arr : {list(arr)}\")\n",
    "print(f\"std of arr : {std_default:.15f}\\n\")\n",
    "print(f\"More precision with float32\")\n",
    "print(\"std of arr : {std_float32:.6f}\\n\")\n",
    "print(f\"More accuracy with float64\")\n",
    "print(f\"std of arr : {std_float64:.15f}\")\n"
   ]
  },
  {
   "cell_type": "code",
   "execution_count": null,
   "metadata": {},
   "outputs": [],
   "source": [
    "#4."
   ]
  }
 ],
 "metadata": {
  "kernelspec": {
   "display_name": "Python 3",
   "language": "python",
   "name": "python3"
  },
  "language_info": {
   "codemirror_mode": {
    "name": "ipython",
    "version": 3
   },
   "file_extension": ".py",
   "mimetype": "text/x-python",
   "name": "python",
   "nbconvert_exporter": "python",
   "pygments_lexer": "ipython3",
   "version": "3.12.4"
  }
 },
 "nbformat": 4,
 "nbformat_minor": 2
}
